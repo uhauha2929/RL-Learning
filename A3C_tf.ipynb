{
 "cells": [
  {
   "cell_type": "code",
   "execution_count": 2,
   "metadata": {},
   "outputs": [
    {
     "data": {
      "text/plain": [
       "'1.12.0'"
      ]
     },
     "execution_count": 2,
     "metadata": {},
     "output_type": "execute_result"
    }
   ],
   "source": [
    "import threading\n",
    "import tensorflow as tf\n",
    "import numpy as np\n",
    "import gym\n",
    "import os\n",
    "import shutil\n",
    "import matplotlib.pyplot as plt\n",
    "os.environ[\"CUDA_VISIBLE_DEVICES\"] = \"5\"\n",
    "config = tf.ConfigProto() \n",
    "config.gpu_options.per_process_gpu_memory_fraction = 0.2\n",
    "session = tf.Session(config=config)\n",
    "%matplotlib inline\n",
    "tf.__version__"
   ]
  },
  {
   "cell_type": "code",
   "execution_count": 3,
   "metadata": {},
   "outputs": [],
   "source": [
    "GAME = 'CartPole-v0'\n",
    "OUTPUT_GRAPH = True\n",
    "LOG_DIR = './log'\n",
    "N_WORKERS = 3\n",
    "MAX_GLOBAL_EP = 3000\n",
    "GLOBAL_NET_SCOPE = 'Global_Net'\n",
    "UPDATE_GLOBAL_ITER = 100\n",
    "GAMMA = 0.9\n",
    "ENTROPY_BETA = 0.001\n",
    "LR_A = 0.001    # learning rate for actor\n",
    "LR_C = 0.001    # learning rate for critic\n",
    "GLOBAL_RUNNING_R = []\n",
    "GLOBAL_EP = 0\n",
    "STEP = 3000 # Step limitation in an episode\n",
    "TEST = 10 # The number of experiment test every 100 episode\n",
    "\n",
    "env = gym.make(GAME)\n",
    "N_S = env.observation_space.shape[0]\n",
    "N_A = env.action_space.n"
   ]
  },
  {
   "cell_type": "code",
   "execution_count": null,
   "metadata": {},
   "outputs": [],
   "source": [
    "class ACNet(object):\n",
    "    def __init__(self, scope, globalAC=None):\n",
    "\n",
    "        if scope == GLOBAL_NET_SCOPE:   # get global network\n",
    "            with tf.variable_scope(scope):\n",
    "                self.s = tf.placeholder(tf.float32, [None, N_S], 'S')\n",
    "                self.a_params, self.c_params = self._build_net(scope)[-2:]\n",
    "        else:   # local net, calculate losses\n",
    "            with tf.variable_scope(scope):\n",
    "                self.s = tf.placeholder(tf.float32, [None, N_S], 'S')\n",
    "                self.a_his = tf.placeholder(tf.int32, [None, ], 'A')\n",
    "                self.v_target = tf.placeholder(tf.float32, [None, 1], 'Vtarget')\n",
    "\n",
    "                self.a_prob, self.v, self.a_params, self.c_params = self._build_net(scope)\n",
    "\n",
    "                td = tf.subtract(self.v_target, self.v, name='TD_error')\n",
    "                with tf.name_scope('c_loss'):\n",
    "                    self.c_loss = tf.reduce_mean(tf.square(td))\n",
    "\n",
    "                with tf.name_scope('a_loss'):\n",
    "                    log_prob = tf.reduce_sum(tf.log(self.a_prob + 1e-5) * tf.one_hot(self.a_his, N_A, dtype=tf.float32), \n",
    "                                             axis=1, keep_dims=True)\n",
    "                    exp_v = log_prob * tf.stop_gradient(td)\n",
    "                    entropy = -tf.reduce_sum(self.a_prob * tf.log(self.a_prob + 1e-5),\n",
    "                                             axis=1, keep_dims=True)  # encourage exploration\n",
    "                    self.exp_v = ENTROPY_BETA * entropy + exp_v\n",
    "                    self.a_loss = tf.reduce_mean(-self.exp_v)\n",
    "\n",
    "                with tf.name_scope('local_grad'):\n",
    "                    self.a_grads = tf.gradients(self.a_loss, self.a_params)\n",
    "                    self.c_grads = tf.gradients(self.c_loss, self.c_params)\n",
    "\n",
    "            with tf.name_scope('sync'):\n",
    "                with tf.name_scope('pull'):\n",
    "                    self.pull_a_params_op = [l_p.assign(g_p) for l_p, g_p in zip(self.a_params, globalAC.a_params)]\n",
    "                    self.pull_c_params_op = [l_p.assign(g_p) for l_p, g_p in zip(self.c_params, globalAC.c_params)]\n",
    "                with tf.name_scope('push'):\n",
    "                    self.update_a_op = OPT_A.apply_gradients(zip(self.a_grads, globalAC.a_params))\n",
    "                    self.update_c_op = OPT_C.apply_gradients(zip(self.c_grads, globalAC.c_params))\n",
    "\n",
    "    def _build_net(self, scope):\n",
    "        w_init = tf.random_normal_initializer(0., .1)\n",
    "        with tf.variable_scope('actor'):\n",
    "            l_a = tf.layers.dense(self.s, 200, tf.nn.relu6, kernel_initializer=w_init, name='la')\n",
    "            a_prob = tf.layers.dense(l_a, N_A, tf.nn.softmax, kernel_initializer=w_init, name='ap')\n",
    "        with tf.variable_scope('critic'):\n",
    "            l_c = tf.layers.dense(self.s, 100, tf.nn.relu6, kernel_initializer=w_init, name='lc')\n",
    "            v = tf.layers.dense(l_c, 1, kernel_initializer=w_init, name='v')  # state value\n",
    "        a_params = tf.get_collection(tf.GraphKeys.TRAINABLE_VARIABLES, scope=scope + '/actor')\n",
    "        c_params = tf.get_collection(tf.GraphKeys.TRAINABLE_VARIABLES, scope=scope + '/critic')\n",
    "        return a_prob, v, a_params, c_params\n",
    "\n",
    "    def update_global(self, feed_dict):  # run by a local\n",
    "        SESS.run([self.update_a_op, self.update_c_op], feed_dict)  # local grads applies to global net\n",
    "\n",
    "    def pull_global(self):  # run by a local\n",
    "        SESS.run([self.pull_a_params_op, self.pull_c_params_op])\n",
    "\n",
    "    def choose_action(self, s):  # run by a local\n",
    "        prob_weights = SESS.run(self.a_prob, feed_dict={self.s: s[np.newaxis, :]})\n",
    "        action = np.random.choice(range(prob_weights.shape[1]),\n",
    "                                  p=prob_weights.ravel())  # select action w.r.t the actions prob\n",
    "        return action"
   ]
  }
 ],
 "metadata": {
  "kernelspec": {
   "display_name": "Python 3",
   "language": "python",
   "name": "python3"
  },
  "language_info": {
   "codemirror_mode": {
    "name": "ipython",
    "version": 3
   },
   "file_extension": ".py",
   "mimetype": "text/x-python",
   "name": "python",
   "nbconvert_exporter": "python",
   "pygments_lexer": "ipython3",
   "version": "3.6.8"
  }
 },
 "nbformat": 4,
 "nbformat_minor": 2
}
